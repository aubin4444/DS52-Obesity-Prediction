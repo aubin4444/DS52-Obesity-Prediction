{
 "cells": [
  {
   "cell_type": "code",
   "execution_count": 1,
   "metadata": {},
   "outputs": [],
   "source": [
    "import pandas as pd\n",
    "import numpy as np\n",
    "import matplotlib.pyplot as plt"
   ]
  },
  {
   "cell_type": "markdown",
   "metadata": {},
   "source": [
    "# Fetching Data"
   ]
  },
  {
   "cell_type": "code",
   "execution_count": 17,
   "metadata": {},
   "outputs": [
    {
     "name": "stdout",
     "output_type": "stream",
     "text": [
      "training set size :  (20758, 18) \n",
      "test set size :  (13840, 17)\n"
     ]
    }
   ],
   "source": [
    "train_set = pd.read_csv(\"train.csv\",delimiter=\",\")\n",
    "test_set = pd.read_csv(\"test.csv\",delimiter=\",\")\n",
    "print('training set size : ', train_set.shape, '\\ntest set size : ', test_set.shape)"
   ]
  },
  {
   "cell_type": "code",
   "execution_count": 19,
   "metadata": {},
   "outputs": [
    {
     "data": {
      "text/plain": [
       "Index(['id', 'Gender', 'Age', 'Height', 'Weight',\n",
       "       'family_history_with_overweight', 'FAVC', 'FCVC', 'NCP', 'CAEC',\n",
       "       'SMOKE', 'CH2O', 'SCC', 'FAF', 'TUE', 'CALC', 'MTRANS', 'NObeyesdad'],\n",
       "      dtype='object')"
      ]
     },
     "execution_count": 19,
     "metadata": {},
     "output_type": "execute_result"
    }
   ],
   "source": [
    "train_set.columns"
   ]
  },
  {
   "cell_type": "markdown",
   "metadata": {},
   "source": [
    "| Features      | Description |\n",
    "|--------------|----------|\n",
    "| id       | Identifier        | \n",
    "| Gender      | Gender        | \n",
    "| Age      | Age        | \n",
    "| Height     | Height     | \n",
    "| Weight      | Weight     | \n",
    "| family_history_with_overweight   | family member suffered or suffers from overweight        | \n",
    "| FAVC      | Frequent consumption of high caloric food     | \n",
    "| FCVC      | Frequency of consumption of vegetables     | \n",
    "| NCP      | Number of main meals     | \n",
    "| CAEC      | Consumption of food between meals     | \n",
    "| SMOKE      | Smoker or not     | \n",
    "| CH2O      | Consumption of water daily     | \n",
    "| SCC      | Calories consumption monitoring     | \n",
    "| FAF      | Physical activity frequency     | \n",
    "| TUE      | Time using technology devices     | \n",
    "| CALC      | Consumption of alcohol     | \n",
    "| MTRANS      | Transportation used     | \n",
    "| NObeyesdad      | Obesity level deducted     | "
   ]
  },
  {
   "cell_type": "code",
   "execution_count": null,
   "metadata": {},
   "outputs": [],
   "source": []
  }
 ],
 "metadata": {
  "kernelspec": {
   "display_name": "Python 3",
   "language": "python",
   "name": "python3"
  },
  "language_info": {
   "codemirror_mode": {
    "name": "ipython",
    "version": 3
   },
   "file_extension": ".py",
   "mimetype": "text/x-python",
   "name": "python",
   "nbconvert_exporter": "python",
   "pygments_lexer": "ipython3",
   "version": "3.12.2"
  }
 },
 "nbformat": 4,
 "nbformat_minor": 2
}
